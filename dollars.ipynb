{
 "cells": [
  {
   "cell_type": "code",
   "execution_count": 1,
   "metadata": {
    "collapsed": false
   },
   "outputs": [
    {
     "data": {
      "text/plain": [
       "\u001b[32mimport \u001b[39m\u001b[36m$ivy.$                             \n",
       "\u001b[39m\n",
       "\u001b[32mimport \u001b[39m\u001b[36m$ivy.$                               \u001b[39m"
      ]
     },
     "execution_count": 1,
     "metadata": {},
     "output_type": "execute_result"
    }
   ],
   "source": [
    "import $ivy.`com.chuusai::shapeless:2.3.2`\n",
    "import $ivy.`org.typelevel::cats-core:0.9.0`"
   ]
  },
  {
   "cell_type": "code",
   "execution_count": 2,
   "metadata": {
    "collapsed": false
   },
   "outputs": [
    {
     "data": {
      "text/plain": [
       "\u001b[32mimport \u001b[39m\u001b[36mcats._, cats.implicits._\n",
       "\u001b[39m\n",
       "\u001b[32mimport \u001b[39m\u001b[36mshapeless.{Id => _, _}, shapeless.ops.function._\u001b[39m"
      ]
     },
     "execution_count": 2,
     "metadata": {},
     "output_type": "execute_result"
    }
   ],
   "source": [
    "import cats._, cats.implicits._\n",
    "import shapeless.{Id => _, _}, shapeless.ops.function._"
   ]
  },
  {
   "cell_type": "code",
   "execution_count": 3,
   "metadata": {
    "collapsed": false
   },
   "outputs": [
    {
     "data": {
      "text/plain": [
       "defined \u001b[32mclass\u001b[39m \u001b[36mHListApplyOps\u001b[39m\n",
       "defined \u001b[32mclass\u001b[39m \u001b[36mHNilApplyOps\u001b[39m\n",
       "defined \u001b[32mclass\u001b[39m \u001b[36mHListSyntax\u001b[39m\n",
       "defined \u001b[32mclass\u001b[39m \u001b[36mHListSyntaxM\u001b[39m\n",
       "defined \u001b[32mclass\u001b[39m \u001b[36mProductSyntax\u001b[39m\n",
       "defined \u001b[32mclass\u001b[39m \u001b[36mProductSyntaxM\u001b[39m\n",
       "defined \u001b[32mfunction\u001b[39m \u001b[36mmkSyntax\u001b[39m\n",
       "defined \u001b[32mfunction\u001b[39m \u001b[36mmkSyntax2\u001b[39m\n",
       "defined \u001b[32mfunction\u001b[39m \u001b[36mmkSyntax3\u001b[39m\n",
       "defined \u001b[32mfunction\u001b[39m \u001b[36mmkSyntax4\u001b[39m"
      ]
     },
     "execution_count": 3,
     "metadata": {},
     "output_type": "execute_result"
    }
   ],
   "source": [
    "implicit class HListApplyOps[F[_] : Apply, L <: HList](fl: F[L]) {\n",
    "  def @:[A](fa: F[A]): F[A :: L] = fa.map(a => a :: (_: L)) ap fl\n",
    "}\n",
    "\n",
    "implicit class HNilApplyOps(h: HNil) {\n",
    "  def @:[F[_] : Functor, A](fa: F[A]): F[A :: HNil] = fa.map(_ :: h)\n",
    "}\n",
    "\n",
    "class HListSyntax[A <: HList, F <: AnyRef](a:A) {\n",
    "  def $$[U](f: F)(implicit cftp: FnToProduct.Aux[f.type, A => U]): U = cftp(f)(a)\n",
    "}\n",
    "\n",
    "class HListSyntaxM[M[_], A <: HList, F <: AnyRef](ma: M[A]) {\n",
    "  def map$[U](f: F)(implicit cftp: FnToProduct.Aux[f.type, A => U], m: Functor[M]): M[U] = m.map(ma)(a => cftp(f)(a))\n",
    "  def flatMap$[U, B](f: F)(implicit\n",
    "                           cftp: FnToProduct.Aux[f.type, A => U],\n",
    "                           ev2: U <:< M[B],\n",
    "                           m: Monad[M]\n",
    "                          ): M[B] = m.flatMap(ma)(t => cftp(f)(t))\n",
    "}\n",
    "\n",
    "class ProductSyntax[T, A <: HList, F <: AnyRef](t:T)(implicit ev: Generic.Aux[T, A]) {\n",
    "  def $$[U](f: F)(implicit cftp: FnToProduct.Aux[f.type, A => U]): U = cftp(f)(ev.to(t))\n",
    "}\n",
    "\n",
    "class ProductSyntaxM[M[_], T, A <: HList, F <: AnyRef](ft: M[T])(implicit ev: Generic.Aux[T, A]) {\n",
    "  def map$[U](f: F)(implicit cftp: FnToProduct.Aux[f.type, A => U], m: Functor[M]): M[U] = m.map(ft)(t => cftp(f)(ev.to(t)))\n",
    "  def flatMap$[U, B](f: F)(implicit\n",
    "                           cftp: FnToProduct.Aux[f.type, A => U],\n",
    "                           ev2: U <:< M[B],\n",
    "                           m: Monad[M]\n",
    "                          ): M[B] = m.flatMap(ft)(t => cftp(f)(ev.to(t)))\n",
    "}\n",
    "\n",
    "implicit def mkSyntax[A <: HList, F <: AnyRef](a: A)(implicit ffp: FnFromProduct.Aux[A => Any, F]): HListSyntax[A, F] = new HListSyntax[A, F](a)\n",
    "\n",
    "implicit def mkSyntax2[M[_], A <: HList, F <: AnyRef](a: M[A])(implicit ffp: FnFromProduct.Aux[A => Any, F]): HListSyntaxM[M, A, F] = new HListSyntaxM[M, A, F](a)\n",
    "\n",
    "implicit def mkSyntax3[T, A <: HList, F <: AnyRef](t: T)(implicit ev: Generic.Aux[T, A], ev2: FnFromProduct.Aux[A => Any, F]): ProductSyntax[T, A, F] =\n",
    "  new ProductSyntax[T, A, F](t)\n",
    "\n",
    "implicit def mkSyntax4[M[_], T, A <: HList, F <: AnyRef](t: M[T])(implicit ev: Generic.Aux[T, A], ev2: FnFromProduct.Aux[A => Any, F]): ProductSyntaxM[M, T, A, F] =\n",
    "  new ProductSyntaxM[M, T, A, F](t)"
   ]
  },
  {
   "cell_type": "code",
   "execution_count": 4,
   "metadata": {
    "collapsed": false
   },
   "outputs": [
    {
     "data": {
      "text/plain": [
       "defined \u001b[32mclass\u001b[39m \u001b[36mX\u001b[39m"
      ]
     },
     "execution_count": 4,
     "metadata": {},
     "output_type": "execute_result"
    }
   ],
   "source": [
    "case class X(i: Int, j: Int)"
   ]
  },
  {
   "cell_type": "code",
   "execution_count": 5,
   "metadata": {
    "collapsed": false
   },
   "outputs": [
    {
     "data": {
      "text/plain": [
       "\u001b[36mres4_0\u001b[39m: \u001b[32mInt\u001b[39m = \u001b[32m3\u001b[39m\n",
       "\u001b[36mres4_1\u001b[39m: \u001b[32mInt\u001b[39m = \u001b[32m3\u001b[39m\n",
       "\u001b[36mres4_2\u001b[39m: \u001b[32mInt\u001b[39m = \u001b[32m24\u001b[39m\n",
       "\u001b[36mres4_3\u001b[39m: \u001b[32mInt\u001b[39m = \u001b[32m3\u001b[39m\n",
       "\u001b[36mres4_4\u001b[39m: \u001b[32mList\u001b[39m[\u001b[32mInt\u001b[39m] = \u001b[33mList\u001b[39m(\u001b[32m3\u001b[39m)\n",
       "\u001b[36mres4_5\u001b[39m: \u001b[32mList\u001b[39m[\u001b[32mInt\u001b[39m] = \u001b[33mList\u001b[39m(\u001b[32m3\u001b[39m)\n",
       "\u001b[36mres4_6\u001b[39m: \u001b[32mList\u001b[39m[\u001b[32mInt\u001b[39m] = \u001b[33mList\u001b[39m(\u001b[32m3\u001b[39m)\n",
       "\u001b[36mres4_7\u001b[39m: \u001b[32mList\u001b[39m[\u001b[32mInt\u001b[39m] = \u001b[33mList\u001b[39m(\u001b[32m3\u001b[39m)\n",
       "\u001b[36mres4_8\u001b[39m: \u001b[32mList\u001b[39m[\u001b[32mInt\u001b[39m] = \u001b[33mList\u001b[39m(\u001b[32m2\u001b[39m, \u001b[32m3\u001b[39m, \u001b[32m3\u001b[39m, \u001b[32m4\u001b[39m, \u001b[32m4\u001b[39m, \u001b[32m5\u001b[39m)"
      ]
     },
     "execution_count": 5,
     "metadata": {},
     "output_type": "execute_result"
    }
   ],
   "source": [
    "(1 :: 2 :: HNil) $$ (_ + _)     //  3\n",
    "(1, 2) $$ (_ + _)               //  3\n",
    "(1, 2, 3, 4) $$ (_ * _ * _ * _) // 24\n",
    "X(1, 2) $$ (_ + _)              //  3\n",
    "\n",
    "List((1, 2)) map$ (_ + _)      //List(3)\n",
    "List(1::2::HNil) map$ (_ + _)  //List(3)\n",
    "\n",
    "List((1, 2)) flatMap$ ((a,b) => List(a+b))      //List(3)\n",
    "List(1::2::HNil) flatMap$ ((a,b) => List(a+b))  //List(3)\n",
    "\n",
    "//the punchline...\n",
    "\n",
    "List(1,2,3) @: List(1,2) @: HNil map$ (_+_)  //List(2, 3, 3, 4, 4, 5)"
   ]
  },
  {
   "cell_type": "code",
   "execution_count": null,
   "metadata": {
    "collapsed": true
   },
   "outputs": [],
   "source": []
  }
 ],
 "metadata": {
  "kernelspec": {
   "display_name": "Scala",
   "language": "scala",
   "name": "scala"
  },
  "language_info": {
   "codemirror_mode": "text/x-scala",
   "file_extension": ".scala",
   "mimetype": "text/x-scala",
   "name": "scala211",
   "nbconvert_exporter": "scala",
   "pygments_lexer": "scala",
   "version": "2.11.8"
  }
 },
 "nbformat": 4,
 "nbformat_minor": 2
}
