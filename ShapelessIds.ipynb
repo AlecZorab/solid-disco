{
 "cells": [
  {
   "cell_type": "code",
   "execution_count": 1,
   "metadata": {
    "collapsed": false
   },
   "outputs": [
    {
     "data": {
      "text/plain": [
       "\u001b[32mimport \u001b[39m\u001b[36m$ivy.$                             \u001b[39m"
      ]
     },
     "execution_count": 1,
     "metadata": {},
     "output_type": "execute_result"
    }
   ],
   "source": [
    "import $ivy.`com.chuusai::shapeless:2.3.2`"
   ]
  },
  {
   "cell_type": "markdown",
   "metadata": {},
   "source": [
    "### Preamble\n",
    "\n",
    "Buckle up, it's shapeless time!"
   ]
  },
  {
   "cell_type": "code",
   "execution_count": 2,
   "metadata": {
    "collapsed": false
   },
   "outputs": [
    {
     "data": {
      "text/plain": [
       "\u001b[32mimport \u001b[39m\u001b[36mshapeless._\u001b[39m"
      ]
     },
     "execution_count": 2,
     "metadata": {},
     "output_type": "execute_result"
    }
   ],
   "source": [
    "import shapeless._"
   ]
  },
  {
   "cell_type": "markdown",
   "metadata": {},
   "source": [
    "Let's say we have a case class with just a single string field called `Id`"
   ]
  },
  {
   "cell_type": "code",
   "execution_count": 3,
   "metadata": {
    "collapsed": false
   },
   "outputs": [
    {
     "data": {
      "text/plain": [
       "defined \u001b[32mclass\u001b[39m \u001b[36mAnId\u001b[39m"
      ]
     },
     "execution_count": 3,
     "metadata": {},
     "output_type": "execute_result"
    }
   ],
   "source": [
    "case class AnId(Id: String)"
   ]
  },
  {
   "cell_type": "markdown",
   "metadata": {},
   "source": [
    "This is isomorphic to all sorts of things, including:\n",
    "\n",
    "* `String`\n",
    "* `String :: HNil`\n",
    "* `String with shapeless.labelled.KeyTag[Symbol with shapeless.tag.Tagged[String(\"Id\")],String]`\n",
    "* `String with shapeless.labelled.KeyTag[Symbol with shapeless.tag.Tagged[String(\"Id\")],String] :: HNil`\n",
    "\n",
    "We want that second one, which is the kind of representation that shapeless would call a `Generic`"
   ]
  },
  {
   "cell_type": "code",
   "execution_count": 4,
   "metadata": {
    "collapsed": false
   },
   "outputs": [
    {
     "data": {
      "text/plain": [
       "\u001b[36mlg\u001b[39m: \u001b[32mGeneric\u001b[39m[\u001b[32mAnId\u001b[39m]{type Repr = shapeless.::[String,shapeless.HNil]} = $sess.cmd3Wrapper$Helper$anon$macro$2$1@609aaf93"
      ]
     },
     "execution_count": 4,
     "metadata": {},
     "output_type": "execute_result"
    }
   ],
   "source": [
    "val lg = Generic[AnId]"
   ]
  },
  {
   "cell_type": "markdown",
   "metadata": {},
   "source": [
    "Which lets us do this sort of thing:"
   ]
  },
  {
   "cell_type": "code",
   "execution_count": 5,
   "metadata": {
    "collapsed": false
   },
   "outputs": [
    {
     "data": {
      "text/plain": [
       "\u001b[36manId\u001b[39m: \u001b[32mAnId\u001b[39m = \u001b[33mAnId\u001b[39m(\u001b[32m\"MyId\"\u001b[39m)\n",
       "\u001b[36mhlist\u001b[39m: \u001b[32mlg\u001b[39m.\u001b[32mRepr\u001b[39m = MyId :: HNil\n",
       "\u001b[36mroundTrip\u001b[39m: \u001b[32mAnId\u001b[39m = \u001b[33mAnId\u001b[39m(\u001b[32m\"MyId\"\u001b[39m)"
      ]
     },
     "execution_count": 5,
     "metadata": {},
     "output_type": "execute_result"
    }
   ],
   "source": [
    "val anId = AnId(\"MyId\")\n",
    "val hlist = lg.to(anId)\n",
    "val roundTrip = lg.from(hlist)"
   ]
  },
  {
   "cell_type": "markdown",
   "metadata": {},
   "source": [
    "And we can do this for anything that we can get a `Generic` for\n",
    "\n",
    "So next let's write a function that lets us add a string to our class"
   ]
  },
  {
   "cell_type": "code",
   "execution_count": 6,
   "metadata": {
    "collapsed": false
   },
   "outputs": [
    {
     "data": {
      "text/plain": [
       "defined \u001b[32mfunction\u001b[39m \u001b[36maddString\u001b[39m"
      ]
     },
     "execution_count": 6,
     "metadata": {},
     "output_type": "execute_result"
    }
   ],
   "source": [
    "def addString(id: AnId, s: String)(implicit ev: Generic.Aux[AnId, String :: HNil]) : AnId = {\n",
    "  val idString :: HNil = ev.to(id)\n",
    "  val appended = idString + s\n",
    "  val inHlist = appended :: HNil\n",
    "  ev.from(inHlist)\n",
    "}"
   ]
  },
  {
   "cell_type": "code",
   "execution_count": 7,
   "metadata": {
    "collapsed": false
   },
   "outputs": [
    {
     "data": {
      "text/plain": [
       "\u001b[36mres6\u001b[39m: \u001b[32mAnId\u001b[39m = \u001b[33mAnId\u001b[39m(\u001b[32m\"MyIdbob\"\u001b[39m)"
      ]
     },
     "execution_count": 7,
     "metadata": {},
     "output_type": "execute_result"
    }
   ],
   "source": [
    "addString(anId, \"bob\")"
   ]
  },
  {
   "cell_type": "markdown",
   "metadata": {},
   "source": [
    "We have to do a bit of hackery to tell the compiler that we want a `Generic` instance that lets us go between `AnId` and `String :: HNil` - that's what the `Generic.Aux[AnId, String :: HNil]` stuff is, and it's an example of the `Aux Pattern` that's very common in shapeless code\n",
    "\n",
    "Armed with that, we can now write something that works in general for anything that looks like an `Id`"
   ]
  },
  {
   "cell_type": "code",
   "execution_count": 8,
   "metadata": {
    "collapsed": false
   },
   "outputs": [
    {
     "data": {
      "text/plain": [
       "defined \u001b[32mfunction\u001b[39m \u001b[36maddString2\u001b[39m"
      ]
     },
     "execution_count": 8,
     "metadata": {},
     "output_type": "execute_result"
    }
   ],
   "source": [
    "def addString2[T](id: T, s: String)(implicit ev: Generic.Aux[T, String :: HNil]) : T = {\n",
    "  val idString :: HNil = ev.to(id)\n",
    "  val appended = idString + s\n",
    "  val inHlist = appended :: HNil\n",
    "  ev.from(inHlist)\n",
    "}"
   ]
  },
  {
   "cell_type": "code",
   "execution_count": 9,
   "metadata": {
    "collapsed": false
   },
   "outputs": [
    {
     "data": {
      "text/plain": [
       "\u001b[36mres8\u001b[39m: \u001b[32mAnId\u001b[39m = \u001b[33mAnId\u001b[39m(\u001b[32m\"MyIdbob\"\u001b[39m)"
      ]
     },
     "execution_count": 9,
     "metadata": {},
     "output_type": "execute_result"
    }
   ],
   "source": [
    "addString2(anId, \"bob\")"
   ]
  },
  {
   "cell_type": "code",
   "execution_count": 10,
   "metadata": {
    "collapsed": false
   },
   "outputs": [
    {
     "data": {
      "text/plain": [
       "defined \u001b[32mclass\u001b[39m \u001b[36mAnotherId\u001b[39m\n",
       "\u001b[36manotherId\u001b[39m: \u001b[32mAnotherId\u001b[39m = \u001b[33mAnotherId\u001b[39m(\u001b[32m\"foo\"\u001b[39m)\n",
       "\u001b[36mres9_2\u001b[39m: \u001b[32mAnotherId\u001b[39m = \u001b[33mAnotherId\u001b[39m(\u001b[32m\"foobar\"\u001b[39m)"
      ]
     },
     "execution_count": 10,
     "metadata": {},
     "output_type": "execute_result"
    }
   ],
   "source": [
    "case class AnotherId(id:String)\n",
    "val anotherId = AnotherId(\"foo\")\n",
    "addString2(anotherId, \"bar\")"
   ]
  },
  {
   "cell_type": "markdown",
   "metadata": {},
   "source": [
    "Sadly, this implementation is probably *too* general - it's going to kick in for any case class wrapper around a string, and very often the entire reason to wrap strings in case classes is to escape the horror of string addtion.\n",
    "\n",
    "So let's add a constraint to stop it working for things that aren't `Id`s"
   ]
  },
  {
   "cell_type": "code",
   "execution_count": 11,
   "metadata": {
    "collapsed": false
   },
   "outputs": [
    {
     "data": {
      "text/plain": [
       "defined \u001b[32mtrait\u001b[39m \u001b[36mId\u001b[39m\n",
       "defined \u001b[32mfunction\u001b[39m \u001b[36maddString3\u001b[39m"
      ]
     },
     "execution_count": 11,
     "metadata": {},
     "output_type": "execute_result"
    }
   ],
   "source": [
    "trait Id\n",
    "def addString3[T <: Id](id: T, s: String)(implicit ev: Generic.Aux[T, String :: HNil]) : T = {\n",
    "  val idString :: HNil = ev.to(id)\n",
    "  val appended = idString + s\n",
    "  val inHlist = appended :: HNil\n",
    "  ev.from(inHlist)\n",
    "}"
   ]
  },
  {
   "cell_type": "code",
   "execution_count": 12,
   "metadata": {
    "collapsed": false
   },
   "outputs": [
    {
     "data": {
      "text/plain": [
       "defined \u001b[32mclass\u001b[39m \u001b[36mAnotherId2\u001b[39m\n",
       "\u001b[36manotherId2\u001b[39m: \u001b[32mAnotherId2\u001b[39m = \u001b[33mAnotherId2\u001b[39m(\u001b[32m\"woop\"\u001b[39m)\n",
       "\u001b[36mres11_2\u001b[39m: \u001b[32mAnotherId2\u001b[39m = \u001b[33mAnotherId2\u001b[39m(\u001b[32m\"woopboop\"\u001b[39m)"
      ]
     },
     "execution_count": 12,
     "metadata": {},
     "output_type": "execute_result"
    }
   ],
   "source": [
    "case class AnotherId2(id:String) extends Id\n",
    "val anotherId2 = AnotherId2(\"woop\")\n",
    "addString3(anotherId2, \"boop\")"
   ]
  },
  {
   "cell_type": "markdown",
   "metadata": {},
   "source": [
    "But if we try it for something that's not an `Id`..."
   ]
  },
  {
   "cell_type": "code",
   "execution_count": 13,
   "metadata": {
    "collapsed": false
   },
   "outputs": [
    {
     "data": {
      "text/plain": [
       "defined \u001b[32mclass\u001b[39m \u001b[36mNotAnId\u001b[39m"
      ]
     },
     "execution_count": 13,
     "metadata": {},
     "output_type": "execute_result"
    }
   ],
   "source": [
    "case class NotAnId(id:String)"
   ]
  },
  {
   "cell_type": "code",
   "execution_count": 13,
   "metadata": {
    "collapsed": false
   },
   "outputs": [
    {
     "name": "stderr",
     "output_type": "stream",
     "text": [
      "cmd13.sc:2: inferred type arguments [cmd13Wrapper.this.cmd12.wrapper.NotAnId] do not conform to method addString3's type parameter bounds [T <: cmd13Wrapper.this.cmd10.wrapper.Id]\n",
      "val res13_1 = addString3(notAnId, \"boop\")\n",
      "              ^cmd13.sc:2: type mismatch;\n",
      " found   : cmd13Wrapper.this.cmd12.wrapper.NotAnId\n",
      " required: T\n",
      "val res13_1 = addString3(notAnId, \"boop\")\n",
      "                         ^cmd13.sc:2: could not find implicit value for parameter ev: shapeless.Generic.Aux[T,shapeless.::[String,shapeless.HNil]]\n",
      "val res13_1 = addString3(notAnId, \"boop\")\n",
      "                        ^"
     ]
    },
    {
     "ename": "",
     "evalue": "",
     "output_type": "error",
     "traceback": [
      "Compilation Failed"
     ]
    }
   ],
   "source": [
    "val notAnId = NotAnId(\"not an Id, apparently\")\n",
    "addString3(notAnId, \"boop\")"
   ]
  },
  {
   "cell_type": "markdown",
   "metadata": {},
   "source": [
    "Which is nice!\n",
    "\n",
    "So now we just want some ceremony to let us write it as `id op string`"
   ]
  },
  {
   "cell_type": "code",
   "execution_count": 14,
   "metadata": {
    "collapsed": false
   },
   "outputs": [
    {
     "data": {
      "text/plain": [
       "defined \u001b[32mclass\u001b[39m \u001b[36mIdOps\u001b[39m"
      ]
     },
     "execution_count": 14,
     "metadata": {},
     "output_type": "execute_result"
    }
   ],
   "source": [
    "implicit class IdOps[T <: Id](t: T){\n",
    "  def /(s:String)(implicit ev: Generic.Aux[T, String :: HNil]) : T = {\n",
    "    val str :: HNil = ev.to(t)\n",
    "    ev.from((str + s) :: HNil)\n",
    "  }\n",
    "}"
   ]
  },
  {
   "cell_type": "code",
   "execution_count": 15,
   "metadata": {
    "collapsed": false
   },
   "outputs": [
    {
     "data": {
      "text/plain": [
       "\u001b[36mres14\u001b[39m: \u001b[32mAnotherId2\u001b[39m = \u001b[33mAnotherId2\u001b[39m(\u001b[32m\"Hi, my name is ... what... who\"\u001b[39m)"
      ]
     },
     "execution_count": 15,
     "metadata": {},
     "output_type": "execute_result"
    }
   ],
   "source": [
    "AnotherId2(\"Hi, my name is \") / \"... what\" / \"... who\""
   ]
  },
  {
   "cell_type": "markdown",
   "metadata": {},
   "source": [
    "However..."
   ]
  },
  {
   "cell_type": "code",
   "execution_count": 15,
   "metadata": {
    "collapsed": false
   },
   "outputs": [
    {
     "name": "stderr",
     "output_type": "stream",
     "text": [
      "cmd15.sc:1: value / is not a member of cmd15Wrapper.this.cmd12.wrapper.NotAnId\n",
      "val res15 = NotAnId(\"Once upon a time\") / \", in a far away land\"\n",
      "                                        ^"
     ]
    },
    {
     "ename": "",
     "evalue": "",
     "output_type": "error",
     "traceback": [
      "Compilation Failed"
     ]
    }
   ],
   "source": [
    "NotAnId(\"Once upon a time\") / \", in a far away land\""
   ]
  },
  {
   "cell_type": "markdown",
   "metadata": {},
   "source": [
    "PS. I couldn't bring myself to allow concatenating them with `+` and `Any2StringAdd` is the single worst thing in the entire scala language and I just can't contribute to more of that madness!"
   ]
  },
  {
   "cell_type": "markdown",
   "metadata": {
    "collapsed": true
   },
   "source": [
    "Another useful thing to know is that if you name the string inside the case class `toString` then when you print the Id it comes out as just the wrapped string, but you need to add an `override val` to it because **reasons**"
   ]
  },
  {
   "cell_type": "code",
   "execution_count": 16,
   "metadata": {
    "collapsed": false
   },
   "outputs": [
    {
     "data": {
      "text/plain": [
       "defined \u001b[32mclass\u001b[39m \u001b[36mAwesomeId\u001b[39m\n",
       "\u001b[36mmyAwesomeId\u001b[39m: \u001b[32mAwesomeId\u001b[39m = awesome!\n",
       "\u001b[36mmoreAwesome\u001b[39m: \u001b[32mAwesomeId\u001b[39m = awesome!awesomer!"
      ]
     },
     "execution_count": 16,
     "metadata": {},
     "output_type": "execute_result"
    }
   ],
   "source": [
    "case class AwesomeId(override val toString: String) extends Id\n",
    "val myAwesomeId = AwesomeId(\"awesome!\")\n",
    "val moreAwesome = myAwesomeId / \"awesomer!\""
   ]
  }
 ],
 "metadata": {
  "kernelspec": {
   "display_name": "Scala",
   "language": "scala",
   "name": "scala"
  },
  "language_info": {
   "codemirror_mode": "text/x-scala",
   "file_extension": ".scala",
   "mimetype": "text/x-scala",
   "name": "scala211",
   "nbconvert_exporter": "scala",
   "pygments_lexer": "scala",
   "version": "2.11.8"
  }
 },
 "nbformat": 4,
 "nbformat_minor": 2
}
